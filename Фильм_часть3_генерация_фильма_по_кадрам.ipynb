{
  "nbformat": 4,
  "nbformat_minor": 0,
  "metadata": {
    "accelerator": "GPU",
    "colab": {
      "name": "Фильм_часть3_генерация-фильма-по-кадрам",
      "provenance": [],
      "collapsed_sections": [
        "mW6BvGrqNNuM",
        "kUF-DjskUIWF",
        "tAgSnojjTjY9",
        "-AwAZxYHjNqI",
        "PBmOVndkNRQo",
        "SWLRt-7VNlwY",
        "TEeP_3wMS6i3"
      ]
    },
    "kernelspec": {
      "display_name": "Python 3",
      "name": "python3"
    },
    "language_info": {
      "name": "python"
    }
  },
  "cells": [
    {
      "cell_type": "markdown",
      "metadata": {
        "id": "dS8LbaonYm3a"
      },
      "source": [
        "#Генерация картинок"
      ]
    },
    {
      "cell_type": "markdown",
      "metadata": {
        "id": "mW6BvGrqNNuM"
      },
      "source": [
        "##Инициализация"
      ]
    },
    {
      "cell_type": "code",
      "metadata": {
        "id": "e0LGTB5SNX5T"
      },
      "source": [
        "#@title <b><font color=\"red\" size=\"+3\">←</font><font color=\"black\" size=\"+3\"> Install all necessary libraries</font></b>\n",
        "\n",
        "# https://stackoverflow.com/a/56727659/1010653\n",
        "\n",
        "print('Wait a few minutes for all the required libraries to be installed.')\n",
        "\n",
        "\n",
        "from IPython.display import clear_output\n",
        "\n",
        "from IPython.utils import io\n",
        "with io.capture_output() as captured:\n",
        "  !git clone https://github.com/openai/CLIP\n",
        "  # !pip install taming-transformers\n",
        "  !git clone https://github.com/CompVis/taming-transformers.git\n",
        "  !rm -Rf clipit\n",
        "  !git clone https://github.com/dribnet/clipit\n",
        "  !pip install ftfy regex tqdm omegaconf pytorch-lightning\n",
        "  !pip install kornia\n",
        "  !pip install imageio-ffmpeg   \n",
        "  !pip install einops\n",
        "  !pip install torch-optimizer\n",
        "  !pip install easydict\n",
        "  !pip install braceexpand\n",
        "  !pip install git+https://github.com/pvigier/perlin-numpy\n",
        "\n",
        "  # ClipDraw deps\n",
        "  !pip install svgwrite\n",
        "  !pip install svgpathtools\n",
        "  !pip install cssutils\n",
        "  !pip install numba\n",
        "  !pip install torch-tools\n",
        "  !pip install visdom\n",
        "\n",
        "  !git clone https://github.com/BachiLi/diffvg\n",
        "  %cd diffvg\n",
        "  # !ls\n",
        "  !git submodule update --init --recursive\n",
        "  !python setup.py install\n",
        "  %cd ..\n",
        "\n",
        "import sys\n",
        "sys.path.append(\"clipit\")\n",
        "\n",
        "import cv2\n",
        "\n",
        "result_msg = \"setup complete\"\n",
        "import IPython\n",
        "import os\n",
        "clear_output()\n",
        "print('\\nDone!\\n')\n",
        "if not os.path.isfile(\"first_init_complete\"):\n",
        "  # put stuff in here that should only happen once\n",
        "  !mkdir -p models\n",
        "  os.mknod(\"first_init_complete\")\n",
        "  result_msg = \"Please choose Runtime -> Restart Runtime from the menu\"\n",
        "\n",
        "js_code = f'''\n",
        "document.querySelector(\"#output-area\").appendChild(document.createTextNode(\"{result_msg}\"));\n",
        "'''\n",
        "js_code += '''\n",
        "for (rule of document.styleSheets[0].cssRules){\n",
        "  if (rule.selectorText=='body') break\n",
        "}\n",
        "rule.style.fontSize = '30px'\n",
        "'''\n",
        "display(IPython.display.Javascript(js_code))"
      ],
      "execution_count": null,
      "outputs": []
    },
    {
      "cell_type": "markdown",
      "metadata": {
        "id": "eWCcT3QeNhQH"
      },
      "source": [
        "Перезапустите среду выполнения Среда выполнения -> перезапустить среду выполнения"
      ]
    },
    {
      "cell_type": "markdown",
      "metadata": {
        "id": "kUF-DjskUIWF"
      },
      "source": [
        "## Текст"
      ]
    },
    {
      "cell_type": "markdown",
      "metadata": {
        "id": "E1KiEu8MNmDn"
      },
      "source": [
        "Перезапустите среду выполнения после инициализации"
      ]
    },
    {
      "cell_type": "code",
      "metadata": {
        "id": "wROEG87yuZsf"
      },
      "source": [
        "data=[{'start': 9.1718820861678,\n",
        "  'text': 'One sunny day, the four wives of the old British consul, the vicar, and a young couple head to the seaside country of Oaxham to attend the wedding of a young man'},\n",
        " {'start': 12.469115646258503,\n",
        "  'text': ' The three old ladies are all of married social standing'}]\n",
        " #!!!вставить таймкод истории!!!"
      ],
      "execution_count": null,
      "outputs": []
    },
    {
      "cell_type": "code",
      "metadata": {
        "id": "m4qYPk2d2sGc"
      },
      "source": [
        "len(data)"
      ],
      "execution_count": null,
      "outputs": []
    },
    {
      "cell_type": "markdown",
      "metadata": {
        "id": "sux8rAgpUU9V"
      },
      "source": [
        "##Генерация"
      ]
    },
    {
      "cell_type": "code",
      "metadata": {
        "id": "W8pQzeO2Ua8N"
      },
      "source": [
        "#при необходимости подключить диск\n",
        "from google.colab import drive\n",
        "drive.mount('/content/drive')"
      ],
      "execution_count": null,
      "outputs": []
    },
    {
      "cell_type": "code",
      "metadata": {
        "id": "RdcsZHgNiRVx"
      },
      "source": [
        "path = '/content/drive/MyDrive/test/byImages' #@param {type:'string'}"
      ],
      "execution_count": null,
      "outputs": []
    },
    {
      "cell_type": "code",
      "metadata": {
        "id": "22JlwjVxOECf"
      },
      "source": [
        "realistic = True #@param {type:'boolean'}\n",
        "surrealistic = False #@param {type:'boolean'}"
      ],
      "execution_count": null,
      "outputs": []
    },
    {
      "cell_type": "code",
      "metadata": {
        "id": "dW5chh7XN59h"
      },
      "source": [
        "import cv2"
      ],
      "execution_count": null,
      "outputs": []
    },
    {
      "cell_type": "code",
      "metadata": {
        "id": "ENCNOWPfOOjy"
      },
      "source": [
        "\n",
        "import sys\n",
        "sys.path.append(\"clipit\")\n",
        "\n",
        "from IPython.display import clear_output\n",
        "\n",
        "result_msg = \"setup complete\"\n",
        "import IPython\n",
        "import os\n",
        "if not os.path.isfile(\"first_init_complete\"):\n",
        "  # put stuff in here that should only happen once\n",
        "  !mkdir -p models\n",
        "  os.mknod(\"first_init_complete\")\n",
        "\n",
        "import clipit\n",
        "from pixeldrawer import PixelDrawer\n",
        "\n",
        "monochrom = False \n",
        "use_pixeldraw = False \n",
        "\n",
        "for j in range (len(data)): \n",
        "  \n",
        "  prompts = data[j]['text']\n",
        "  if realistic:\n",
        "    iteration = 142 \n",
        "  else:\n",
        "    iteration = 32\n",
        "  aspect = \"widescreen\" \n",
        "  scale = 2 \n",
        "  seed = 0 \n",
        "  if seed == 0: seen = None\n",
        "\n",
        "  # Simple setup\n",
        "\n",
        "\n",
        "  clipit.reset_settings()\n",
        "  clipit.add_settings(prompts=prompts, aspect=aspect)\n",
        "  clipit.add_settings(quality=\"better\", scale=scale)\n",
        "  clipit.add_settings(use_pixeldraw=use_pixeldraw)\n",
        "  clipit.add_settings(iterations=iteration)\n",
        "  clipit.add_settings(seed=seed)\n",
        "  clipit.add_settings(do_mono=monochrom)\n",
        "  clipit.add_settings(save_every=20)\n",
        "\n",
        "  settings = clipit.apply_settings()\n",
        "  clipit.do_init(settings)\n",
        "  clear_output()\n",
        "  clipit.do_run(settings)\n",
        "  filename = \"output.png\"\n",
        "  img = cv2.imread(\"output.png\")\n",
        "  cv2.imwrite(f'{path}/{j:03}.png', img)"
      ],
      "execution_count": null,
      "outputs": []
    },
    {
      "cell_type": "markdown",
      "metadata": {
        "id": "tAgSnojjTjY9"
      },
      "source": [
        "##Увеличение размера"
      ]
    },
    {
      "cell_type": "code",
      "metadata": {
        "id": "CLrcdMyQTnIb"
      },
      "source": [
        "import cv2\n",
        "import numpy as np \n",
        "\n",
        "for file in os.listdir(path):\n",
        "  img=cv2.imread(f'{path}/{file}')\n",
        "  b=cv2.resize(img, (1829, 1024), interpolation=cv2.INTER_NEAREST)\n",
        "  cv2.imwrite(f'{path}/{file}',b)"
      ],
      "execution_count": null,
      "outputs": []
    },
    {
      "cell_type": "markdown",
      "metadata": {
        "id": "-AwAZxYHjNqI"
      },
      "source": [
        "#Сбор видео"
      ]
    },
    {
      "cell_type": "markdown",
      "metadata": {
        "id": "PBmOVndkNRQo"
      },
      "source": [
        "##Инициализация"
      ]
    },
    {
      "cell_type": "code",
      "metadata": {
        "id": "WkJDNSnQNQmG"
      },
      "source": [
        "!pip install opencv-python\n",
        "!pip install natsort"
      ],
      "execution_count": null,
      "outputs": []
    },
    {
      "cell_type": "code",
      "metadata": {
        "id": "riTE1NiINXLB"
      },
      "source": [
        "import os\n",
        "import cv2 \n",
        "from PIL import Image \n",
        "import natsort\n",
        "from google.colab.patches import cv2_imshow\n",
        "from datetime import datetime\n",
        "import shutil\n",
        "\n",
        "# Проверка текущего пути к каталогу\n",
        "\n",
        "# print(os.getcwd()) \n",
        "\n",
        "path_main = path # базовая папка, в которой будут сохранены все данные \n",
        "os.chdir(path_main)\n",
        "\n",
        "try:\n",
        "    os.mkdir('Sci_morph') # Создание папки и проверка её на наличие в директории\n",
        "except OSError:\n",
        "    pass\n",
        "\n",
        "try:\n",
        "    os.mkdir('Sci_pictures') # Создание папки и проверка её на наличие в директории\n",
        "except OSError:\n",
        "    pass\n",
        "\n",
        "path_for_morph = f\"{path}/Sci_morph\" # Папка, которая содержит изображения для морфинга.\n",
        "                                  # Из неё будут извлечены изображения для генерации видео-морфинга (Вручную добавить изображения)!!!\n",
        "\n",
        "path_for_video_series = f\"{path}/Sci_pictures\" # Папка, которая содержит изображения для видеорядов. Добавьте те же изображения, что и в 'path_for_morph'.\n",
        "                                  # Из неё будут извлечены изображения для генерации видеоряда (Вручную добавить изображения)!!!\n",
        "\n",
        "name_output_video = 'my_concatenation_final_video' # Название выходного видео в формате .mp4\n",
        "\n",
        "os.chdir(path_for_morph)\n",
        "#\n",
        "path = os.getcwd()  \n",
        "print(\"Текущая рабочая директория %s\" % path) # определяем текущий каталог и печатаем"
      ],
      "execution_count": null,
      "outputs": []
    },
    {
      "cell_type": "code",
      "metadata": {
        "id": "xMremUFrEsIy"
      },
      "source": [
        "import cv2\n",
        "for j in range(len(data)):\n",
        "  img = cv2.imread(f'{path_main}/{j:03}.png')\n",
        "  cv2.imwrite(f'{path_for_morph}/{j:03}.png', img)\n",
        "  cv2.imwrite(f'{path_for_video_series}/{j:03}.png', img)"
      ],
      "execution_count": null,
      "outputs": []
    },
    {
      "cell_type": "markdown",
      "metadata": {
        "id": "SWLRt-7VNlwY"
      },
      "source": [
        "##Видео"
      ]
    },
    {
      "cell_type": "code",
      "metadata": {
        "id": "xud-3__bNsl4"
      },
      "source": [
        "from PIL import Image\n",
        "import numpy as np\n",
        "import os \n",
        "from tqdm import tqdm"
      ],
      "execution_count": null,
      "outputs": []
    },
    {
      "cell_type": "code",
      "metadata": {
        "id": "htVChIO1NlOx"
      },
      "source": [
        "mean_height = 0\n",
        "\n",
        "mean_width = 0\n",
        "\n",
        "num_of_images = len(os.listdir('.'))\n",
        "\n",
        "running = True # Запуск генерации видео\n",
        "\n",
        "\n",
        "for file in os.listdir('.'):\n",
        "    if os.path.isfile(file) and file.endswith(\".jpg\") or file.endswith(\".jpeg\") or file.endswith(\".png\"):\n",
        "        im = Image.open(os.path.join(path, file))\n",
        "\n",
        "        width, height = im.size\n",
        "\n",
        "        mean_width += width\n",
        "\n",
        "        mean_height += height\n",
        "\n",
        "  \n",
        "# Нахождение средней высоты и ширины всех изображений.\n",
        "# Это необходимо, потому что требуется видеокадр\n",
        "# устанавливается одинаковой шириной и высотой. В противном случае\n",
        "# изображения не равные этой ширине высота не получится\n",
        "# встроено в видео\n",
        "\n",
        "try:\n",
        "    mean_width = int(mean_width / num_of_images)\n",
        "    mean_height = int(mean_height / num_of_images)\n",
        "except ZeroDivisionError:\n",
        "    running = False\n",
        "    print('Отсутствуют изображения! Проверьте их наличие.')\n",
        "\n",
        "  \n",
        "# print (mean_height)\n",
        "# print (mean_width)\n",
        "\n",
        "  \n",
        "# Изменение размера изображений, чтобы дать\n",
        "# их одинаковой ширины и высоты\n",
        "list_img = natsort.natsorted(os.listdir('.'))\n",
        "\n",
        "\n",
        "def delete_pictures(): # Функция удаления файлов, папок\n",
        "    os.chdir(path_for_morph)\n",
        "    folder = '.'\n",
        "    for the_file in os.listdir(folder):\n",
        "        file_path = os.path.join(folder, the_file)\n",
        "        try:\n",
        "            if file_path.endswith(\".jpg\") or file_path.endswith(\".jpeg\") or file_path.endswith(\".png\"):\n",
        "                os.unlink(file_path)\n",
        "            elif os.path.isdir(file_path): shutil.rmtree(file_path)\n",
        "        except Exception as e:\n",
        "            pass\n",
        "            \n",
        "\n",
        "if running:\n",
        "    for num, file in enumerate(list_img):\n",
        "          if file.endswith(\".jpg\") or file.endswith(\".jpeg\") or file.endswith(\".png\"):\n",
        "              try:\n",
        "                  # открытие изображения с помощью PIL Image\n",
        "\n",
        "                  img = cv2.imread(f\"{path_for_morph}/{file}\")\n",
        "\n",
        "                  img2 = cv2.imread(f\"{path_for_morph}/{list_img[num + 1]}\")\n",
        "\n",
        "                  dis = 10.0 # iterations \n",
        "                  piece = 1.0 / dis\n",
        "\n",
        "                  for i in range(int(dis)):\n",
        "                      \n",
        "                      dst = cv2.addWeighted(img, 1 - (piece * (i)), img2, piece * (i + 1), 0)\n",
        "                      name_file = str(file.split('.')[0]) + '_' + str(i) + '.png'\n",
        "                      print(name_file)\n",
        "                      cv2.imwrite(name_file, dst)\n",
        "                      print(name_file)\n",
        "\n",
        "                  os.remove(file)\n",
        "              except Exception as e:\n",
        "                pass\n",
        "\n",
        "    list_img = natsort.natsorted(os.listdir('.'))\n",
        "\n",
        "    for num, file in enumerate(list_img):\n",
        "        if file.endswith(\".jpg\") or file.endswith(\".jpeg\") or file.endswith(\".png\"):\n",
        "            # открытие изображения с помощью PIL Image\n",
        "\n",
        "            im = Image.open(os.path.join(path, file))\n",
        "\n",
        "            # im.size включает в себя высоту и ширину изображения\n",
        "\n",
        "            width, height = im.size   \n",
        "\n",
        "            # изменение размера\n",
        "\n",
        "            imResize = im.resize((mean_width, mean_height), Image.ANTIALIAS) \n",
        "\n",
        "            imResize.save( file, 'JPEG', quality = 95) # настройка качества\n",
        "\n",
        "\n",
        "    def generate_video(): # Функция создания видео\n",
        "        image_folder = '.' # убедитесь, что используете вашу папку\n",
        "        os.chdir(path_for_morph)\n",
        "\n",
        "        images = [img for img in natsort.natsorted(os.listdir(image_folder))\n",
        "\n",
        "                  if img.endswith(\".jpg\") or\n",
        "\n",
        "                    img.endswith(\".jpeg\") or\n",
        "\n",
        "                    img.endswith(\"png\")]\n",
        "\n",
        "        # Изображения массива должны учитывать только\n",
        "        # файлы изображений, игнорируя другие, если таковые имеются\n",
        "\n",
        "        frame = cv2.imread(os.path.join(image_folder, images[0]))\n",
        "\n",
        "        # настройка ширины рамки, высоты по ширине\n",
        "        # ширина, высота первого изображения\n",
        "\n",
        "        height, width, layers = frame.shape  \n",
        "\n",
        "        speed_fps = 10.0 # Скорость отображения изображений(ВАЖНО!!!)\n",
        "\n",
        "        # Добавление изображений к видео по одному\n",
        "        count = 1\n",
        "        name_num = 0\n",
        "\n",
        "        for num, image in enumerate(images):\n",
        "            if num == 0:\n",
        "                video_name = f'video_output_{name_num}.mp4'\n",
        "                video = cv2.VideoWriter(video_name, 0x7634706d, speed_fps, (width, height))\n",
        "            if count <= 10:\n",
        "                pass\n",
        "            else:\n",
        "                cv2.destroyAllWindows() # Распределение памяти, взятой для создания окна\n",
        "                video.release()  # выпуск сгенерированного видео\n",
        "                                # Видео будет храниться в этой же папке в формате .mp4\n",
        "                name_num += 1\n",
        "                count = 1\n",
        "                video_name = f'video_output_{name_num}.mp4'\n",
        "                video = cv2.VideoWriter(video_name, 0x7634706d, speed_fps, (width, height)) \n",
        "\n",
        "            video.write(cv2.imread(os.path.join(image_folder, image))) \n",
        "            count += 1\n",
        "\n",
        "        delete_pictures()\n",
        "\n",
        "    generate_video() # Вызов функции generate_video"
      ],
      "execution_count": null,
      "outputs": []
    },
    {
      "cell_type": "code",
      "metadata": {
        "id": "ufbi1fvNNrHL"
      },
      "source": [
        "!mkdir videos1"
      ],
      "execution_count": null,
      "outputs": []
    },
    {
      "cell_type": "code",
      "metadata": {
        "id": "OB9M9sw4Nakw"
      },
      "source": [
        "%cd videos1"
      ],
      "execution_count": null,
      "outputs": []
    },
    {
      "cell_type": "code",
      "metadata": {
        "id": "GuEkNOktNyKy"
      },
      "source": [
        "print(len(data))"
      ],
      "execution_count": null,
      "outputs": []
    },
    {
      "cell_type": "code",
      "metadata": {
        "id": "HMSE7Po-N0ls"
      },
      "source": [
        "bigframe=[] \n",
        "\n",
        "for j in range(len(data)):\n",
        " \n",
        "  init_frame = 1 # Это кадр, где Видео начнется\n",
        "  last_frame = len(data) # номер последнего кадра. Также вызовет ошибку, если такого количества кадров не существует.\n",
        " \n",
        "  min_fps = 1\n",
        "  max_fps = 30\n",
        " \n",
        "  total_frames = last_frame-init_frame\n",
        "  \n",
        "  if j != 0:\n",
        "      length = data[j]['start'] - data[j - 1]['start'] - 1 \n",
        "  else:\n",
        "      length = data[j]['start'] - 1\n",
        " \n",
        "  frames = []\n",
        "  for i in range(len(data)):\n",
        "    try: \n",
        "        filename = f\"{path_for_video_series}/{i:03}.png\"\n",
        "        frames.append(Image.open(filename))\n",
        "    except FileNotFoundError as e:\n",
        "        pass         \n",
        "  print(frames)\n",
        "  fps = np.clip(total_frames/length,min_fps,max_fps)\n",
        "  name= f'video_{j:03}.mp4'\n",
        " \n",
        "  from subprocess import Popen, PIPE\n",
        "  p = Popen(['ffmpeg', '-y', '-f', 'image2pipe', '-vcodec', 'png', '-r', str(fps), '-i', '-', '-vcodec', 'libx264', '-r', str(fps), '-pix_fmt', 'yuv420p', '-crf', '17', '-preset', 'veryslow', name], stdin=PIPE)\n",
        "  for im in tqdm(frames):\n",
        "    frames[j].save(p.stdin, 'PNG')\n",
        "  p.stdin.close() \n",
        "  p.wait()"
      ],
      "execution_count": null,
      "outputs": []
    },
    {
      "cell_type": "code",
      "metadata": {
        "id": "JAuM0FJ9OCcK"
      },
      "source": [
        "os.chdir(path_main)\n",
        "\n",
        "try:\n",
        "    os.mkdir('output_video') # Создание папки и проверка её на наличие в директории\n",
        "except OSError:\n",
        "    pass\n",
        "\n",
        "path_to_videos1 = f'{path_for_morph}/videos1'\n",
        "path_to_output_video = f'{path_main}/output_video'\n",
        "\n",
        "os.chdir(path_to_output_video)"
      ],
      "execution_count": null,
      "outputs": []
    },
    {
      "cell_type": "code",
      "metadata": {
        "id": "YsJ-6S3xOD8I"
      },
      "source": [
        "print(os.getcwd())"
      ],
      "execution_count": null,
      "outputs": []
    },
    {
      "cell_type": "code",
      "metadata": {
        "id": "UYYepKTeOIRE"
      },
      "source": [
        "import os\n",
        "\n",
        "clips=[] \n",
        "\n",
        "list_imgs = [x.split('/')[-1] for x in os.listdir(path_for_morph)]\n",
        "\n",
        "list_imgs_video = [x.split('/')[-1] for x in os.listdir(path_to_videos1)]\n",
        "\n",
        "from moviepy.editor import VideoFileClip, concatenate_videoclips\n",
        "\n",
        "for f1, f2 in zip(natsort.natsorted(list_imgs), natsort.natsorted(list_imgs_video)):\n",
        "    name_1 = f'{path_for_morph}/{f1}'\n",
        "    name_2 = f'{path_to_videos1}/{f2}'\n",
        "    clips.append(VideoFileClip(name_2))\n",
        "    clips.append(VideoFileClip(name_1))\n",
        "\n",
        "print(clips)\n",
        "final_clip = concatenate_videoclips(clips, method=\"compose\")\n",
        "final_clip.write_videofile(f\"{path_to_output_video}/{name_output_video}.mp4\")"
      ],
      "execution_count": null,
      "outputs": []
    },
    {
      "cell_type": "markdown",
      "metadata": {
        "id": "TEeP_3wMS6i3"
      },
      "source": [
        "#Обьединение со звуком"
      ]
    },
    {
      "cell_type": "code",
      "metadata": {
        "id": "M5HOJa4zS6uw"
      },
      "source": [
        "!pip install pydub\n",
        "!pip install ffmpeg\n",
        "from google.colab import files"
      ],
      "execution_count": null,
      "outputs": []
    },
    {
      "cell_type": "code",
      "metadata": {
        "id": "-uYwJ7_VS-Cl"
      },
      "source": [
        "from pydub import AudioSegment\n",
        "sound1 = AudioSegment.from_file(\"/content/voice.wav\", format=\"wav\")# путь до файла с голосом (надо закачать)\n",
        "\n",
        "sound2 = AudioSegment.from_file(\"/content/music.wav\", format=\"wav\") # путь до файла с музыкой (надо закачать)\n",
        "sound2 = sound2 - 6 # на 6dB тише\n",
        "overlay = sound1.overlay(sound2, position=0)\n",
        "overlay.export('/content/audio.wav', format='wav') \n",
        "!ffmpeg  -i /content/audio.wav -i /content/video.mp4 /content/Moovie.mp4 #/content/video.mp4 = путь до файла с  видео. Изменить если путь другой\n",
        "files.download('/content/Moovie.mp4')"
      ],
      "execution_count": null,
      "outputs": []
    },
    {
      "cell_type": "markdown",
      "metadata": {
        "id": "ZGbpdFyHTAP3"
      },
      "source": [
        "#Фильм готов! Наслаждайтесь просмотром!"
      ]
    }
  ]
}