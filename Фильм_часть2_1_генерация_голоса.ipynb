{
  "nbformat": 4,
  "nbformat_minor": 0,
  "metadata": {
    "colab": {
      "name": "Фильм_часть2-1_генерация-голоса",
      "provenance": [],
      "collapsed_sections": [
        "u5RV9GcLBSET",
        "Mjx9EQdIW1Gf",
        "83hV604IBh42"
      ]
    },
    "kernelspec": {
      "display_name": "Python 3",
      "name": "python3"
    },
    "language_info": {
      "name": "python"
    }
  },
  "cells": [
    {
      "cell_type": "markdown",
      "metadata": {
        "id": "IAUsuDZ7TARh"
      },
      "source": [
        "# Часть 2. Генерация голоса\n"
      ]
    },
    {
      "cell_type": "markdown",
      "metadata": {
        "id": "u5RV9GcLBSET"
      },
      "source": [
        "## Установка зависимостей и инициализация модели"
      ]
    },
    {
      "cell_type": "code",
      "metadata": {
        "id": "H52UbMNbT5xN"
      },
      "source": [
        "#@title Выберете язык (только 1):\n",
        "\n",
        "english=True#@param {type:\"boolean\"}\n",
        "french = False#@param {type:\"boolean\"}\n",
        "german = False#@param {type:\"boolean\"}"
      ],
      "execution_count": null,
      "outputs": []
    },
    {
      "cell_type": "code",
      "metadata": {
        "id": "7pODtF1Fymn8"
      },
      "source": [
        "#@title Установка модели для озвучивания:\n",
        "\n",
        "!python3 -m venv larynx_venv\n",
        "!source larynx_venv/bin/activate\n",
        "\n",
        "!pip3 install --upgrade pip\n",
        "!pip3 install --upgrade wheel setuptools\n",
        "\n",
        "#не обращать внимания на restart runtime"
      ],
      "execution_count": null,
      "outputs": []
    },
    {
      "cell_type": "code",
      "metadata": {
        "id": "KswYbWM8yrLX"
      },
      "source": [
        "!pip3 install -f 'https://synesthesiam.github.io/prebuilt-apps/' larynx\n",
        "!python3 -m larynx\n",
        "\n",
        "#не обращать внимания на restart runtime"
      ],
      "execution_count": null,
      "outputs": []
    },
    {
      "cell_type": "code",
      "metadata": {
        "id": "HAdT186y7JVn"
      },
      "source": [
        "!mkdir voices #создаём папку, куда будем складывать аудио файлы"
      ],
      "execution_count": null,
      "outputs": []
    },
    {
      "cell_type": "markdown",
      "metadata": {
        "id": "Mjx9EQdIW1Gf"
      },
      "source": [
        "## Текст из ноутбука со сказками"
      ]
    },
    {
      "cell_type": "code",
      "metadata": {
        "id": "KfJY8wtMbkrl"
      },
      "source": [
        "data = \"One sunny day, the four wives of the old British consul, the vicar, and a young couple head to the seaside country of Oaxham to attend the wedding of a young man. ^ I think the three old ladies are all of married social standing ^ .\" \n",
        "#!!!Вставить переменную sentence из ноутбука \"Фильм_часть1\"!!!"
      ],
      "execution_count": null,
      "outputs": []
    },
    {
      "cell_type": "code",
      "metadata": {
        "id": "QimliUoLKdOS"
      },
      "source": [
        "data = data.split('.')[:-1] #разбиваем по фразам для дальнейшего создания таймодов"
      ],
      "execution_count": null,
      "outputs": []
    },
    {
      "cell_type": "code",
      "metadata": {
        "id": "dt1zJAwrdyWL"
      },
      "source": [
        "data"
      ],
      "execution_count": null,
      "outputs": []
    },
    {
      "cell_type": "code",
      "metadata": {
        "id": "eQDIBmkuAEz7"
      },
      "source": [
        "len(data)"
      ],
      "execution_count": null,
      "outputs": []
    },
    {
      "cell_type": "markdown",
      "metadata": {
        "id": "83hV604IBh42"
      },
      "source": [
        "## Генерация речи "
      ]
    },
    {
      "cell_type": "code",
      "metadata": {
        "id": "z0gA_o6490ns"
      },
      "source": [
        "import os"
      ],
      "execution_count": null,
      "outputs": []
    },
    {
      "cell_type": "code",
      "metadata": {
        "id": "J3Enh462Vi7c"
      },
      "source": [
        "#@title Выбор голосов для озвучивания\n",
        "if english:\n",
        "  narr = 'cmu_eey' #расскащик\n",
        "  persMal = 'cmu_bdl' #мужской персонаж\n",
        "  persFem = 'blizzard_lessac' #женский персонаж\n",
        "\n",
        "elif french:\n",
        "  narr = 'gilles_le_blanc'\n",
        "  persMal = 'tom'\n",
        "  persFem = 'siwis'\n",
        "\n",
        "elif german:\n",
        "  narr = 'eva_k'\n",
        "  persMal = 'pavoque'\n",
        "  persFem = 'kerstin'"
      ],
      "execution_count": null,
      "outputs": []
    },
    {
      "cell_type": "code",
      "metadata": {
        "id": "t2muwdHEeaNl"
      },
      "source": [
        "if english:\n",
        "  he = 'he'\n",
        "  she = 'she'\n",
        "\n",
        "elif french:\n",
        "  he = 'il'\n",
        "  she = 'elle'\n",
        "\n",
        "elif german:\n",
        "  he = 'Er'\n",
        "  she = 'Sie'"
      ],
      "execution_count": null,
      "outputs": []
    },
    {
      "cell_type": "code",
      "metadata": {
        "id": "2sDoifje9p9z"
      },
      "source": [
        "for j in range(len(data)):\n",
        "  isPersMal = False\n",
        "  isPersFem = False\n",
        "\n",
        "  words = data[j].split(' ')\n",
        "  a = 0\n",
        "\n",
        "  for i in range(len(words)):\n",
        "    if words[i] == '^':\n",
        "      a+=1\n",
        "      if a==2 and words[i+1] == he: #поиск указаний на пол персонажа\n",
        "        isPersMal = True\n",
        "      elif a==2 and words[i+1] == she:\n",
        "        isPersFem = True  \n",
        "      elif a==2:\n",
        "        isPersMal = True #Поменять на isPersFem если хотите женский голос персонажей по умолчанию\n",
        "      \n",
        "\n",
        "  text=data[j]\n",
        "  text+='.'\n",
        "  name = f'/content/voices/{j:03}.wav' \n",
        "  if isPersMal:\n",
        "    command = os.popen('larynx -v '+ persMal +' \"'+text+'\" -q \"high\" > '+name) #озвучивание(по фразовое)\n",
        "  elif isPersFem:\n",
        "    command = os.popen('larynx -v ' +persFem+ ' \"'+text+'\" -q \"high\" > '+name)\n",
        "  else:\n",
        "    command = os.popen('larynx -v ' +narr+ ' \"'+text+'\" -q \"high\" > '+name)\n",
        "  execute = command.read\n",
        "  command.close()"
      ],
      "execution_count": null,
      "outputs": []
    },
    {
      "cell_type": "code",
      "metadata": {
        "id": "Z-L0GyBXKxaC"
      },
      "source": [
        "import soundfile as sf"
      ],
      "execution_count": null,
      "outputs": []
    },
    {
      "cell_type": "code",
      "metadata": {
        "id": "doEO2cIYKaUF"
      },
      "source": [
        "#@title Генерация таймкодов\n",
        "timecodes = []\n",
        "duration = 0\n",
        "for j in range(len(data)):\n",
        "  file = sf.SoundFile(f'/content/voices/{j:03}.wav')\n",
        "  duration += len(file)/file.samplerate\n",
        "  timecodes+=[{'start':duration,'text':data[j]}]\n",
        "print(timecodes)"
      ],
      "execution_count": null,
      "outputs": []
    },
    {
      "cell_type": "code",
      "metadata": {
        "id": "UwPaxgNCT9iS"
      },
      "source": [
        "timecodes"
      ],
      "execution_count": null,
      "outputs": []
    },
    {
      "cell_type": "code",
      "metadata": {
        "id": "O6ASh39NQ_NQ"
      },
      "source": [
        "import wave"
      ],
      "execution_count": null,
      "outputs": []
    },
    {
      "cell_type": "code",
      "metadata": {
        "id": "AvHJIitTQjxM"
      },
      "source": [
        "#@title Обьединение голосовых файлов в один\n",
        "\n",
        "outfile = 'voice' #@param {type:'string'}\n",
        "outfile += '.wav' \n",
        "data1 = []\n",
        "for j in range(len(data)):\n",
        "  w = wave.open(f'/content/voices/{j:03}.wav', 'rb')\n",
        "  data1.append([w.getparams(), w.readframes(w.getnframes())])\n",
        "  w.close()\n",
        "\n",
        "output = wave.open(outfile, 'wb')\n",
        "output.setparams(data1[0][0])\n",
        "for j in range(len(data)):\n",
        "  output.writeframes(data1[j][1])\n",
        "output.close"
      ],
      "execution_count": null,
      "outputs": []
    },
    {
      "cell_type": "code",
      "metadata": {
        "id": "fhGNt_5CQ9dF"
      },
      "source": [
        ""
      ],
      "execution_count": null,
      "outputs": []
    },
    {
      "cell_type": "code",
      "metadata": {
        "id": "r2sCzMRB_vIc"
      },
      "source": [
        "import IPython\n",
        "\n",
        "IPython.display.Audio('/content/voice.wav')"
      ],
      "execution_count": null,
      "outputs": []
    },
    {
      "cell_type": "markdown",
      "metadata": {
        "id": "ckdmZ1bWbNN5"
      },
      "source": [
        "#Пожалуйста, сохраните файл voice.wav и переменную timecodes чтобы использовать их в \"Фильм_часть2-2\" и \"Фильм_часть3\" )"
      ]
    }
  ]
}