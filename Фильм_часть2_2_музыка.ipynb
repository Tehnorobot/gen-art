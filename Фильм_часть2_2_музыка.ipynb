{
  "nbformat": 4,
  "nbformat_minor": 0,
  "metadata": {
    "accelerator": "GPU",
    "colab": {
      "name": "Фильм_часть2-2_музыка",
      "provenance": [],
      "collapsed_sections": [
        "CY6Zfd1HQlIs",
        "0NP3ktcHy_yY",
        "5z2pPy02SH21",
        "pl3oY0w8gBJh",
        "irm7zvkeTYFu",
        "ARpjJyS6TlVW",
        "sCooVYEATx8d"
      ]
    },
    "kernelspec": {
      "display_name": "Python 3",
      "name": "python3"
    }
  },
  "cells": [
    {
      "cell_type": "markdown",
      "metadata": {
        "id": "y49R-ZsGQfcS"
      },
      "source": [
        "#Музыка для фильма"
      ]
    },
    {
      "cell_type": "markdown",
      "metadata": {
        "id": "CY6Zfd1HQlIs"
      },
      "source": [
        "##Доп. настройки"
      ]
    },
    {
      "cell_type": "code",
      "metadata": {
        "id": "oSXyx8IAQjJU"
      },
      "source": [
        "#@title Выберете жанр (тот же, что и в тексте):\n",
        "\n",
        "drama=True #@param {type:\"boolean\"}\n",
        "sci_fi = False #@param {type:\"boolean\"}\n",
        "horror = False #@param {type:\"boolean\"}\n",
        "thriller = False #@param {type:\"boolean\"}\n",
        "action = False #@param {type:\"boolean\"}\n",
        "superhero = False #@param {type:\"boolean\"}"
      ],
      "execution_count": null,
      "outputs": []
    },
    {
      "cell_type": "code",
      "metadata": {
        "colab": {
          "base_uri": "https://localhost:8080/"
        },
        "id": "ZUKQijEe51Je",
        "outputId": "c81412a3-c3c3-487f-f323-d5daa1a313da"
      },
      "source": [
        "#@title Подключите диск при необходимости:\n",
        "\n",
        "from google.colab import drive\n",
        "drive.mount('/content/drive')"
      ],
      "execution_count": null,
      "outputs": [
        {
          "name": "stdout",
          "output_type": "stream",
          "text": [
            "Mounted at /content/drive\n"
          ]
        }
      ]
    },
    {
      "cell_type": "code",
      "metadata": {
        "id": "3Kj8WNh_0MzA"
      },
      "source": [
        "import soundfile as sf\n",
        "path = f'/content/voice.wav' #путь до файла с голосовым озвучиванием\n",
        "file = sf.SoundFile(path)\n",
        "duration = len(file)/file.samplerate #узнаём длинну этого файла"
      ],
      "execution_count": null,
      "outputs": []
    },
    {
      "cell_type": "markdown",
      "metadata": {
        "id": "0KEbTFPfTtO9"
      },
      "source": [
        "##Запускать только 1 из моделей"
      ]
    },
    {
      "cell_type": "markdown",
      "metadata": {
        "id": "0NP3ktcHy_yY"
      },
      "source": [
        "## multitrack music vae\n",
        "### **drama, sci-fi, horror, thriller**"
      ]
    },
    {
      "cell_type": "markdown",
      "metadata": {
        "id": "5z2pPy02SH21"
      },
      "source": [
        "### Environment Setup"
      ]
    },
    {
      "cell_type": "code",
      "metadata": {
        "id": "tciXVi5eWG_1"
      },
      "source": [
        "#@title Setup Environment\n",
        "\n",
        "print('Copying checkpoints and modified SGM SoundFont (https://sites.google.com/site/soundfonts4u) from GCS.')\n",
        "print('This will take a few minutes...')\n",
        "!gsutil -q -m cp gs://download.magenta.tensorflow.org/models/music_vae/multitrack/* /content/\n",
        "!gsutil -q -m cp gs://download.magenta.tensorflow.org/soundfonts/SGM-v2.01-Sal-Guit-Bass-V1.3.sf2 /content/\n",
        "\n",
        "print('Installing dependencies...')\n",
        "!apt-get update -qq && apt-get install -qq libfluidsynth1 build-essential libasound2-dev libjack-dev\n",
        "!pip install -qU magenta pyfluidsynth pretty_midi\n",
        "\n",
        "print('Importing libraries...')\n",
        "\n",
        "import numpy as np\n",
        "import os\n",
        "import tensorflow.compat.v1 as tf\n",
        "\n",
        "from google.colab import files\n",
        "\n",
        "import magenta.music as mm\n",
        "from magenta.music.sequences_lib import concatenate_sequences\n",
        "from magenta.models.music_vae import configs\n",
        "from magenta.models.music_vae.trained_model import TrainedModel\n",
        "\n",
        "tf.disable_v2_behavior()"
      ],
      "execution_count": null,
      "outputs": []
    },
    {
      "cell_type": "code",
      "metadata": {
        "id": "3URxzTQyXfdO"
      },
      "source": [
        "#@title Definitions\n",
        "\n",
        "BATCH_SIZE = 4\n",
        "Z_SIZE = 512\n",
        "TOTAL_STEPS = 512\n",
        "BAR_SECONDS = 2.0\n",
        "CHORD_DEPTH = 49\n",
        "\n",
        "SAMPLE_RATE = 44100\n",
        "SF2_PATH = '/content/SGM-v2.01-Sal-Guit-Bass-V1.3.sf2'\n",
        "\n",
        "# Play sequence using SoundFont.\n",
        "def play(note_sequences):\n",
        "  if not isinstance(note_sequences, list):\n",
        "    note_sequences = [note_sequences]\n",
        "  for ns in note_sequences:\n",
        "    mm.play_sequence(ns, synth=mm.fluidsynth, sf2_path=SF2_PATH)\n",
        "  \n",
        "# Spherical linear interpolation.\n",
        "def slerp(p0, p1, t):\n",
        "  \"\"\"Spherical linear interpolation.\"\"\"\n",
        "  omega = np.arccos(np.dot(np.squeeze(p0/np.linalg.norm(p0)), np.squeeze(p1/np.linalg.norm(p1))))\n",
        "  so = np.sin(omega)\n",
        "  return np.sin((1.0-t)*omega) / so * p0 + np.sin(t*omega)/so * p1\n",
        "\n",
        "# Download sequence.\n",
        "def download(note_sequence, filename):\n",
        "  mm.sequence_proto_to_midi_file(note_sequence, filename)\n",
        "  #files.download(filename)\n",
        "\n",
        "# Chord encoding tensor.\n",
        "def chord_encoding(chord):\n",
        "  index = mm.TriadChordOneHotEncoding().encode_event(chord)\n",
        "  c = np.zeros([TOTAL_STEPS, CHORD_DEPTH])\n",
        "  c[0,0] = 1.0\n",
        "  c[1:,index] = 1.0\n",
        "  return c\n",
        "\n",
        "# Trim sequences to exactly one bar.\n",
        "def trim_sequences(seqs, num_seconds=BAR_SECONDS):\n",
        "  for i in range(len(seqs)):\n",
        "    seqs[i] = mm.extract_subsequence(seqs[i], 0.0, num_seconds)\n",
        "    seqs[i].total_time = num_seconds\n",
        "\n",
        "# Consolidate instrument numbers by MIDI program.\n",
        "def fix_instruments_for_concatenation(note_sequences):\n",
        "  instruments = {}\n",
        "  for i in range(len(note_sequences)):\n",
        "    for note in note_sequences[i].notes:\n",
        "      if not note.is_drum:\n",
        "        if note.program not in instruments:\n",
        "          if len(instruments) >= 8:\n",
        "            instruments[note.program] = len(instruments) + 2\n",
        "          else:\n",
        "            instruments[note.program] = len(instruments) + 1\n",
        "        note.instrument = instruments[note.program]\n",
        "      else:\n",
        "        note.instrument = 9"
      ],
      "execution_count": null,
      "outputs": []
    },
    {
      "cell_type": "code",
      "metadata": {
        "id": "KBUsaUYlMlO2"
      },
      "source": [
        "import wave"
      ],
      "execution_count": null,
      "outputs": []
    },
    {
      "cell_type": "markdown",
      "metadata": {
        "id": "pl3oY0w8gBJh"
      },
      "source": [
        "### Chord-Conditioned Model"
      ]
    },
    {
      "cell_type": "code",
      "metadata": {
        "id": "5qD2bnK1zTpJ"
      },
      "source": [
        "#@title Выбераем аккорды\n",
        "\n",
        "if drama:\n",
        " chord_1 = 'Cm'\n",
        " chord_2 = 'E'\n",
        " chord_3 = 'B'\n",
        " chord_4 = 'Cm'\n",
        "\n",
        "if sci_fi:\n",
        " chord_1 = 'Cm'\n",
        " chord_2 = 'F'\n",
        " chord_3 = 'B'\n",
        " chord_4 = 'Am'\n",
        " \n",
        "if horror or thriller:\n",
        " chord_1 = 'C'\n",
        " chord_2 = 'C'\n",
        " chord_3 = 'B'\n",
        " chord_4 = 'Dm'"
      ],
      "execution_count": null,
      "outputs": []
    },
    {
      "cell_type": "code",
      "metadata": {
        "id": "n8z2zwC9gF2i"
      },
      "source": [
        "#@title Загружаем чекпоинт\n",
        "\n",
        "config = configs.CONFIG_MAP['hier-multiperf_vel_1bar_med_chords']\n",
        "model = TrainedModel(\n",
        "    config, batch_size=BATCH_SIZE,\n",
        "    checkpoint_dir_or_path='/content/model_chords_fb64.ckpt')"
      ],
      "execution_count": null,
      "outputs": []
    },
    {
      "cell_type": "code",
      "metadata": {
        "id": "2bXqnFz9gAya"
      },
      "source": [
        "#@title Генерация музыки\n",
        "filename = 'music' #@param {type:'string'}\n",
        "\n",
        "for i in range(int(duration//120)+1): #для улучшния качества генерится несколько мелодий, каждая по 2 мин\n",
        "  chords = [chord_1, chord_2, chord_3, chord_4]\n",
        "\n",
        "  num_bars = 64\n",
        "  temperature = 0.2 \n",
        "\n",
        "  z1 = np.random.normal(size=[Z_SIZE])\n",
        "  z2 = np.random.normal(size=[Z_SIZE])\n",
        "  z = np.array([slerp(z1, z2, t)\n",
        "              for t in np.linspace(0, 1, num_bars)])\n",
        "\n",
        "  seqs = [\n",
        "    model.decode(length=TOTAL_STEPS, z=z[i:i+1, :], temperature=temperature,\n",
        "                 c_input=chord_encoding(chords[i % 4]))[0]\n",
        "    for i in range(num_bars)\n",
        "  ]\n",
        "\n",
        "  trim_sequences(seqs)\n",
        "  fix_instruments_for_concatenation(seqs)\n",
        "  prog_interp_ns = concatenate_sequences(seqs)\n",
        "\n",
        "  download(prog_interp_ns, filename+str(i)+ '.mid')\n",
        "\n",
        "  play(prog_interp_ns)\n",
        "  mm.plot_sequence(prog_interp_ns)"
      ],
      "execution_count": null,
      "outputs": []
    },
    {
      "cell_type": "code",
      "metadata": {
        "id": "6NXvsPwAgZok"
      },
      "source": [
        "#@title mid2wav\n",
        "\n",
        "!apt install fluidsynth\n",
        "!cp /usr/share/sounds/sf2/FluidR3_GM.sf2 ./font.sf2\n",
        "\n",
        "import os\n",
        "import time"
      ],
      "execution_count": null,
      "outputs": []
    },
    {
      "cell_type": "code",
      "metadata": {
        "id": "XEwDC1Frh7T5"
      },
      "source": [
        "#@title Обьединение в wav файл\n",
        "\n",
        "outfile = 'music' #@param {type:'string'}\n",
        "outfile+= '.wav'\n",
        "\n",
        "data1 = []\n",
        "i=0\n",
        "while True:\n",
        "  try:\n",
        "    os.popen('fluidsynth -ni font.sf2 /content/'+filename + str(i)+'.mid -F '+filename + str(i)+'.wav -r 44100')#mid2wav\n",
        "    time.sleep(5) #ждём когда новый файл появится в content\n",
        "    w = wave.open(f'/content/{filename}{i}.wav', 'rb')\n",
        "    print(i)\n",
        "    data1.append([w.getparams(), w.readframes(w.getnframes())])\n",
        "    w.close()\n",
        "    i+=1\n",
        "  except FileNotFoundError:\n",
        "    break  \n",
        "\n",
        "output = wave.open(outfile, 'wb')\n",
        "output.setparams(data1[0][0])\n",
        "for j in range(len(data1)):\n",
        "  output.writeframes(data1[j][1]) #обьединение\n",
        "output.close"
      ],
      "execution_count": null,
      "outputs": []
    },
    {
      "cell_type": "code",
      "metadata": {
        "id": "U9JiL_GCigig"
      },
      "source": [
        "import IPython\n",
        "\n",
        "IPython.display.Audio(f'/content/{outfile}')"
      ],
      "execution_count": null,
      "outputs": []
    },
    {
      "cell_type": "markdown",
      "metadata": {
        "id": "irm7zvkeTYFu"
      },
      "source": [
        "##music vae\n",
        "###**action, superhero**"
      ]
    },
    {
      "cell_type": "markdown",
      "metadata": {
        "id": "ARpjJyS6TlVW"
      },
      "source": [
        "###env setup"
      ]
    },
    {
      "cell_type": "code",
      "metadata": {
        "id": "lCNDfaW0TnT1"
      },
      "source": [
        "#@title Setup Environment\n",
        "\n",
        "import glob\n",
        "\n",
        "BASE_DIR = \"gs://download.magenta.tensorflow.org/models/music_vae/colab2\"\n",
        "\n",
        "print('Installing dependencies...')\n",
        "!apt-get update -qq && apt-get install -qq libfluidsynth1 fluid-soundfont-gm build-essential libasound2-dev libjack-dev\n",
        "!pip install -q pyfluidsynth\n",
        "!pip install -qU magenta\n",
        "\n",
        "# Hack to allow python to pick up the newly-installed fluidsynth lib.\n",
        "# This is only needed for the hosted Colab environment.\n",
        "import ctypes.util\n",
        "orig_ctypes_util_find_library = ctypes.util.find_library\n",
        "def proxy_find_library(lib):\n",
        "  if lib == 'fluidsynth':\n",
        "    return 'libfluidsynth.so.1'\n",
        "  else:\n",
        "    return orig_ctypes_util_find_library(lib)\n",
        "ctypes.util.find_library = proxy_find_library\n",
        "\n",
        "\n",
        "print('Importing libraries and defining some helper functions...')\n",
        "from google.colab import files\n",
        "import magenta.music as mm\n",
        "from magenta.models.music_vae import configs\n",
        "from magenta.models.music_vae.trained_model import TrainedModel\n",
        "import numpy as np\n",
        "import os\n",
        "import tensorflow.compat.v1 as tf\n",
        "\n",
        "tf.disable_v2_behavior()\n",
        "\n",
        "# Necessary until pyfluidsynth is updated (>1.2.5).\n",
        "import warnings\n",
        "warnings.filterwarnings(\"ignore\", category=DeprecationWarning)\n",
        "\n",
        "def play(note_sequence):\n",
        "  mm.play_sequence(note_sequence, synth=mm.fluidsynth)\n",
        "\n",
        "def interpolate(model, start_seq, end_seq, num_steps, max_length=32,\n",
        "                assert_same_length=True, temperature=0.5,\n",
        "                individual_duration=4.0):\n",
        "  \"\"\"Interpolates between a start and end sequence.\"\"\"\n",
        "  note_sequences = model.interpolate(\n",
        "      start_seq, end_seq,num_steps=num_steps, length=max_length,\n",
        "      temperature=temperature,\n",
        "      assert_same_length=assert_same_length)\n",
        "\n",
        "  print('Start Seq Reconstruction')\n",
        "  play(note_sequences[0])\n",
        "  print('End Seq Reconstruction')\n",
        "  play(note_sequences[-1])\n",
        "  print('Mean Sequence')\n",
        "  play(note_sequences[num_steps // 2])\n",
        "  print('Start -> End Interpolation')\n",
        "  interp_seq = mm.sequences_lib.concatenate_sequences(\n",
        "      note_sequences, [individual_duration] * len(note_sequences))\n",
        "  play(interp_seq)\n",
        "  mm.plot_sequence(interp_seq)\n",
        "  return interp_seq if num_steps > 3 else note_sequences[num_steps // 2]\n",
        "\n",
        "def download(note_sequence, filename):\n",
        "  mm.sequence_proto_to_midi_file(note_sequence, filename)\n",
        "  #files.download(filename)\n",
        "\n",
        "print('Done')"
      ],
      "execution_count": null,
      "outputs": []
    },
    {
      "cell_type": "markdown",
      "metadata": {
        "id": "sCooVYEATx8d"
      },
      "source": [
        "### 16-bar Melody Models"
      ]
    },
    {
      "cell_type": "code",
      "metadata": {
        "id": "lSXVuYI5T0dd"
      },
      "source": [
        "#@title Загрузка модели\n",
        "mel_16bar_models = {}\n",
        "hierdec_mel_16bar_config = configs.CONFIG_MAP['hierdec-mel_16bar']\n",
        "mel_16bar_models['hierdec_mel_16bar'] = TrainedModel(hierdec_mel_16bar_config, batch_size=4, checkpoint_dir_or_path=BASE_DIR + '/checkpoints/mel_16bar_hierdec.ckpt')\n",
        "\n",
        "flat_mel_16bar_config = configs.CONFIG_MAP['flat-mel_16bar']\n",
        "mel_16bar_models['baseline_flat_mel_16bar'] = TrainedModel(flat_mel_16bar_config, batch_size=4, checkpoint_dir_or_path=BASE_DIR + '/checkpoints/mel_16bar_flat.ckpt')"
      ],
      "execution_count": null,
      "outputs": []
    },
    {
      "cell_type": "code",
      "metadata": {
        "id": "a5qmMuwbT4ik"
      },
      "source": [
        "#@title Генерация\n",
        "mel_sample_model = \"hierdec_mel_16bar\" \n",
        "temperature = 0.5\n",
        "\n",
        "for i in range(int(duration//30)+1):\n",
        "  mel_16_samples = mel_16bar_models[mel_sample_model].sample(n=1, length=50, temperature=temperature)\n",
        "  for ns in mel_16_samples:\n",
        "    download(ns, f'music{i}.mid')\n",
        "#for ns in mel_16_samples:\n",
        "#  play(ns)\n",
        "#раскоментировать если хотите прослушать mid фрагменты"
      ],
      "execution_count": null,
      "outputs": []
    },
    {
      "cell_type": "code",
      "metadata": {
        "id": "hbUcA5z3ZEW9"
      },
      "source": [
        "!apt install fluidsynth\n",
        "!cp /usr/share/sounds/sf2/FluidR3_GM.sf2 ./font.sf2\n",
        "import wave"
      ],
      "execution_count": null,
      "outputs": []
    },
    {
      "cell_type": "code",
      "metadata": {
        "id": "EP5GNaMbX4Rs"
      },
      "source": [
        "#@title mid2wav\n",
        "for j in range(i+1):\n",
        "  try:\n",
        "    os.popen('fluidsynth -ni font.sf2 /content/music' + str(j)+'.mid -F music'+ str(j)+'.wav -r 44100')#mid2wav\n",
        "  except FileNotFoundError:\n",
        "    break"
      ],
      "execution_count": null,
      "outputs": []
    },
    {
      "cell_type": "code",
      "metadata": {
        "id": "5nRTuNTcX-l9"
      },
      "source": [
        "#@title Сборка в 1 файл\n",
        "outfile = 'music' #@param {type:'string'}\n",
        "outfile+= '.wav'\n",
        "\n",
        "data1 = []\n",
        "for j in range(i+1):\n",
        "    w = wave.open(f'/content/music{j}.wav', 'rb')\n",
        "    data1.append([w.getparams(), w.readframes(w.getnframes())])\n",
        "    w.close()"
      ],
      "execution_count": null,
      "outputs": []
    },
    {
      "cell_type": "code",
      "metadata": {
        "id": "FyCmR_zWYllc"
      },
      "source": [
        "output = wave.open(outfile, 'wb')\n",
        "output.setparams(data1[0][0])\n",
        "for j in range(len(data1)):\n",
        "  output.writeframes(data1[j][1])\n",
        "output.close"
      ],
      "execution_count": null,
      "outputs": []
    },
    {
      "cell_type": "code",
      "metadata": {
        "id": "CcprqGpdWRhk"
      },
      "source": [
        "import IPython\n",
        "\n",
        "IPython.display.Audio(f'/content/{outfile}')"
      ],
      "execution_count": null,
      "outputs": []
    },
    {
      "cell_type": "markdown",
      "metadata": {
        "id": "fbW4zOoPZV_Q"
      },
      "source": [
        "# Пожалуйста сохраните получившийся музыкальный файл, он нам пригодится в \"Фильм_часть3\" "
      ]
    }
  ]
}