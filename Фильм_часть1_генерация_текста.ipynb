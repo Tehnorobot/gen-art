{
  "nbformat": 4,
  "nbformat_minor": 0,
  "metadata": {
    "colab": {
      "name": "Фильм_часть1_генерация текста",
      "provenance": [],
      "collapsed_sections": [
        "CwdOqup7COQd",
        "FoMJr0QZe8Rp"
      ]
    },
    "kernelspec": {
      "name": "python3",
      "display_name": "Python 3"
    },
    "language_info": {
      "name": "python"
    }
  },
  "cells": [
    {
      "cell_type": "markdown",
      "metadata": {
        "id": "CwdOqup7COQd"
      },
      "source": [
        "##Генерация текста для мультфильма "
      ]
    },
    {
      "cell_type": "code",
      "metadata": {
        "id": "XQLwnXIIwAZC"
      },
      "source": [
        "#@title Установка необходимых пакетов\n",
        "\n",
        "!pip install transformers\n",
        "!pip install googletrans==3.1.0a0"
      ],
      "execution_count": null,
      "outputs": []
    },
    {
      "cell_type": "code",
      "metadata": {
        "id": "thQWoy4hg9N0"
      },
      "source": [
        "import torch\n",
        "from transformers import GPT2Tokenizer, GPT2LMHeadModel"
      ],
      "execution_count": null,
      "outputs": []
    },
    {
      "cell_type": "code",
      "metadata": {
        "id": "qoEWzdDxPhJf"
      },
      "source": [
        "#@title Импорт модели\n",
        "\n",
        "model = GPT2LMHeadModel.from_pretrained('pranavpsv/gpt2-genre-story-generator')\n",
        "tokenizer = GPT2Tokenizer.from_pretrained('gpt2')"
      ],
      "execution_count": null,
      "outputs": []
    },
    {
      "cell_type": "code",
      "metadata": {
        "id": "BJl42x1OAzXl"
      },
      "source": [
        "#@markdown Вебирете название жанра\n",
        "gen='drama' #@param['superhero', 'sci_fi', 'horror', 'action', 'thriller', 'drama']\n",
        " \n",
        "#@markdown Введите название текста\n",
        "text=\"One sunny day\"#@param{type:\"string\"}\n",
        "\n",
        "n = 0 #количество вставок \"I\"\n",
        "temperature = 2.1"
      ],
      "execution_count": null,
      "outputs": []
    },
    {
      "cell_type": "code",
      "metadata": {
        "id": "HCAAfg903usm"
      },
      "source": [
        "#@title Генерация\n",
        "i=0\n",
        "sentence = f'<BOS><{gen}>{text}'\n",
        "\n",
        "while len(sentence.split(' '))<=450:\n",
        "    i+=1\n",
        "    try:\n",
        "      if i <= n:\n",
        "        \n",
        "        lenght = 50 #длина предложений\n",
        "        context_tokens = tokenizer.encode(sentence, add_special_tokens=False)\n",
        "        context = torch.tensor(context_tokens, dtype=torch.long)\n",
        "        num_samples = 1\n",
        "        generated = context.unsqueeze(0).repeat(num_samples, 1)\n",
        "\n",
        "        out = model.generate(generated, min_length=lenght+lenght*i, max_length=lenght+lenght*i+100, do_sample=True, top_k=35, top_p=0.95) #генерация текста\n",
        "        sentence = tokenizer.decode(out[0], skeap_special_tokens=True)[:tokenizer.decode(out[0], skeap_special_tokens=True).rfind('.')] + '\"I  '\n",
        "        #print(sentence)\n",
        "\n",
        "      else:\n",
        "        lenght = 60 #длина предложений\n",
        "        context_tokens = tokenizer.encode(sentence, add_special_tokens=False)\n",
        "        context = torch.tensor(context_tokens, dtype=torch.long)\n",
        "        num_samples = 1\n",
        "        generated = context.unsqueeze(0).repeat(num_samples, 1)\n",
        "\n",
        "        out = model.generate(generated, min_length=lenght+lenght*i, max_length=lenght+lenght*i+100, do_sample=True, top_k=35, top_p=0.95)\n",
        "        sentence = tokenizer.decode(out[0], skeap_special_tokens=True)[:tokenizer.decode(out[0], skeap_special_tokens=True).rfind('.')]\n",
        "\n",
        "    except TypeError :\n",
        "      i-=1\n",
        "      print('error')\n",
        "      continue\n",
        "    except IndexError :\n",
        "      i-=1\n",
        "      print('error')\n",
        "      continue\n",
        "    sentence = sentence+\".\"\n",
        "print(sentence)"
      ],
      "execution_count": null,
      "outputs": []
    },
    {
      "cell_type": "code",
      "metadata": {
        "id": "1GD8LXT0PziG"
      },
      "source": [
        "poubelle, corbeille, sentence = sentence.split('>') #убираем BOS и название жанра"
      ],
      "execution_count": null,
      "outputs": []
    },
    {
      "cell_type": "code",
      "metadata": {
        "id": "MDMhER8Bdc9c"
      },
      "source": [
        "sentence = sentence.replace('\"', '. ^ ') #заменяем кавычки, символизирующие начало диалога, на ^ для более простой генерации мультиголоса"
      ],
      "execution_count": null,
      "outputs": []
    },
    {
      "cell_type": "code",
      "metadata": {
        "id": "fbg23OarUHlF"
      },
      "source": [
        "sentence"
      ],
      "execution_count": null,
      "outputs": []
    },
    {
      "cell_type": "markdown",
      "metadata": {
        "id": "FoMJr0QZe8Rp"
      },
      "source": [
        "## Перевод"
      ]
    },
    {
      "cell_type": "code",
      "metadata": {
        "id": "FpA3ObshfAyZ"
      },
      "source": [
        "from googletrans import Translator"
      ],
      "execution_count": null,
      "outputs": []
    },
    {
      "cell_type": "code",
      "metadata": {
        "id": "o_YYLvUVGkk1"
      },
      "source": [
        "#@markdown Выбор языка\n",
        "language='English' #@param['English', 'French', 'German']\n",
        "\n",
        "translator = Translator()\n",
        "\n",
        "if language=='French':\n",
        "  res = translator.translate(sentence, dest='fr')\n",
        "  sentence = res.text\n",
        "elif language=='German': \n",
        "  res = translator.translate(sentence, dest='de')\n",
        "  sentence = res.text\n",
        "\n",
        "print(sentence)"
      ],
      "execution_count": null,
      "outputs": []
    },
    {
      "cell_type": "code",
      "metadata": {
        "id": "3VMIbIV_W5do"
      },
      "source": [
        "sentence"
      ],
      "execution_count": null,
      "outputs": []
    },
    {
      "cell_type": "markdown",
      "metadata": {
        "id": "2UztDB17h-rC"
      },
      "source": [
        "##Пожалуйста, скопируйте переменную sentence, она нам понадобится в блоклоте \"Фильм_часть2-1\"."
      ]
    }
  ]
}